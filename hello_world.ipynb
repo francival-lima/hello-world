{
  "nbformat": 4,
  "nbformat_minor": 0,
  "metadata": {
    "colab": {
      "provenance": [],
      "authorship_tag": "ABX9TyMMGXYDzpBEOIPd7bgG4D4J",
      "include_colab_link": true
    },
    "kernelspec": {
      "name": "python3",
      "display_name": "Python 3"
    },
    "language_info": {
      "name": "python"
    }
  },
  "cells": [
    {
      "cell_type": "markdown",
      "metadata": {
        "id": "view-in-github",
        "colab_type": "text"
      },
      "source": [
        "<a href=\"https://colab.research.google.com/github/francival-lima/hello-world/blob/main/hello_world.ipynb\" target=\"_parent\"><img src=\"https://colab.research.google.com/assets/colab-badge.svg\" alt=\"Open In Colab\"/></a>"
      ]
    },
    {
      "cell_type": "code",
      "execution_count": null,
      "metadata": {
        "id": "mCJWD_iMaEff"
      },
      "outputs": [],
      "source": []
    },
    {
      "cell_type": "markdown",
      "source": [
        "Teste de untegração do GitHub com o Colab."
      ],
      "metadata": {
        "id": "tPcsccmnaJqI"
      }
    },
    {
      "cell_type": "markdown",
      "source": [
        "Irei usar as dicas que a Ia da consulta do Google gerou:\n",
        "\n",
        "Working with Google Colab and Git involves several steps to effectively manage and version control your notebooks and code. Here's a guide on how to integrate these tools:\n",
        "Clone a GitHub Repository:\n",
        "Open a new Colab notebook.\n",
        "Use !git clone <repository_url> to clone the desired repository. Replace <repository_url> with the actual URL.\n",
        "This will create a local copy of the repository within the Colab environment.\n",
        "Python\n",
        "\n",
        "!git clone https://github.com/username/repository.git\n",
        "Navigate to the Repository:\n",
        "Use !cd <repository_name> to move into the cloned repository directory.\n",
        "Python\n",
        "\n",
        "!cd repository\n",
        "Make Changes and Add Files:\n",
        "Modify existing files or create new ones within the Colab environment.\n",
        "Use !git status to check the status of your changes.\n",
        "Add the changes to the staging area using !git add . (to add all changes) or !git add <file_name> (to add specific files).\n",
        "Python\n",
        "\n",
        "!git status\n",
        "!git add .\n",
        "Commit Changes:\n",
        "Commit the staged changes with a descriptive message using !git commit -m \"Your commit message\".\n",
        "Python\n",
        "\n",
        "!git commit -m \"Add new feature\"\n",
        "Configure Git Credentials:\n",
        "Set your Git username and email using the following commands:\n",
        "Python\n",
        "\n",
        "!git config --global user.email \"your_email@example.com\"\n",
        "!git config --global user.name \"Your Name\"\n",
        "Push Changes to GitHub:\n",
        "Push the committed changes to the remote repository using !git push origin <branch_name>. If you haven't set up authentication, you might be prompted for your GitHub credentials (username and password or personal access token).\n",
        "Python\n",
        "\n",
        "!git push origin main\n",
        "Authentication:\n",
        "For secure authentication, consider using a personal access token instead of your password.\n",
        "Generate a token with the necessary permissions in your GitHub settings.\n",
        "When prompted for credentials, use your username and the generated token.\n",
        "Working with Branches:\n",
        "Create a new branch using !git checkout -b <new_branch_name>.\n",
        "Switch to an existing branch using !git checkout <branch_name>.\n",
        "Merge branches using !git merge <branch_name>.\n",
        "Python\n",
        "\n",
        "!git checkout -b new-branch\n",
        "!git checkout main\n",
        "!git merge new-branch\n",
        "Saving Colab Notebooks Directly to GitHub:\n",
        "Go to File > Save a copy in GitHub.\n",
        "Authorize Colab to access your GitHub account.\n",
        "Choose the repository and branch to save the notebook to.\n",
        "Add an optional commit message and save.\n",
        "Opening Notebooks from GitHub:\n",
        "Go to File > Open notebook.\n",
        "Select the GitHub tab.\n",
        "Enter the repository URL or search for it.\n",
        "Choose the notebook to open.\n",
        "These steps provide a comprehensive guide to working with Colab and Git, enabling you to effectively manage, version control, and collaborate on your projects."
      ],
      "metadata": {
        "id": "DOEYB_mjafVP"
      }
    },
    {
      "cell_type": "code",
      "source": [
        "!git clone https://github.com/francival-lima/hello-world"
      ],
      "metadata": {
        "colab": {
          "base_uri": "https://localhost:8080/"
        },
        "id": "egOhTXTCaWoy",
        "outputId": "f66d71a2-8159-40f1-eb19-b050f856a27f"
      },
      "execution_count": 1,
      "outputs": [
        {
          "output_type": "stream",
          "name": "stdout",
          "text": [
            "Cloning into 'hello-world'...\n",
            "remote: Enumerating objects: 3, done.\u001b[K\n",
            "remote: Counting objects: 100% (3/3), done.\u001b[K\n",
            "remote: Compressing objects: 100% (2/2), done.\u001b[K\n",
            "remote: Total 3 (delta 0), reused 0 (delta 0), pack-reused 0 (from 0)\u001b[K\n",
            "Receiving objects: 100% (3/3), done.\n"
          ]
        }
      ]
    },
    {
      "cell_type": "code",
      "source": [
        "!ls"
      ],
      "metadata": {
        "colab": {
          "base_uri": "https://localhost:8080/"
        },
        "id": "0Iil4IDibyUS",
        "outputId": "56007e95-1950-4f19-939e-30550f109986"
      },
      "execution_count": 3,
      "outputs": [
        {
          "output_type": "stream",
          "name": "stdout",
          "text": [
            "hello-world  sample_data\n"
          ]
        }
      ]
    },
    {
      "cell_type": "code",
      "source": [
        "!cd hello-world/\n",
        "!ls"
      ],
      "metadata": {
        "colab": {
          "base_uri": "https://localhost:8080/"
        },
        "id": "McKLClDib1It",
        "outputId": "9c5e9632-24e9-49c1-80c3-dc2f4448d049"
      },
      "execution_count": 7,
      "outputs": [
        {
          "output_type": "stream",
          "name": "stdout",
          "text": [
            "hello-world  sample_data\n"
          ]
        }
      ]
    },
    {
      "cell_type": "code",
      "source": [
        "!ls"
      ],
      "metadata": {
        "colab": {
          "base_uri": "https://localhost:8080/"
        },
        "id": "67pizphdcDkm",
        "outputId": "19814150-1dcd-4be2-ade3-23be40fa7628"
      },
      "execution_count": 9,
      "outputs": [
        {
          "output_type": "stream",
          "name": "stdout",
          "text": [
            "hello-world  sample_data\n"
          ]
        }
      ]
    },
    {
      "cell_type": "code",
      "source": [
        "!cd hello-world/\n",
        "!pwd"
      ],
      "metadata": {
        "colab": {
          "base_uri": "https://localhost:8080/"
        },
        "id": "SnY1vbbccHkl",
        "outputId": "abc31da6-1c21-458f-a9cb-f41cd45f2877"
      },
      "execution_count": 12,
      "outputs": [
        {
          "output_type": "stream",
          "name": "stdout",
          "text": [
            "/content\n"
          ]
        }
      ]
    },
    {
      "cell_type": "code",
      "source": [
        "!cd hello-world/\n",
        "!pwd\n",
        "!ls -las hello-world/"
      ],
      "metadata": {
        "colab": {
          "base_uri": "https://localhost:8080/"
        },
        "id": "PcJpcw9ncaO2",
        "outputId": "26ceea90-b864-452d-ece9-eac7bd49b5a6"
      },
      "execution_count": 21,
      "outputs": [
        {
          "output_type": "stream",
          "name": "stdout",
          "text": [
            "/content\n",
            "total 16\n",
            "4 drwxr-xr-x 3 root root 4096 Apr 26 04:49 .\n",
            "4 drwxr-xr-x 1 root root 4096 Apr 26 04:49 ..\n",
            "4 drwxr-xr-x 8 root root 4096 Apr 26 04:49 .git\n",
            "4 -rw-r--r-- 1 root root   82 Apr 26 04:49 README.md\n"
          ]
        }
      ]
    },
    {
      "cell_type": "code",
      "source": [
        "!git status"
      ],
      "metadata": {
        "colab": {
          "base_uri": "https://localhost:8080/"
        },
        "id": "gSizOrdpc6uf",
        "outputId": "9ee0ee28-c94a-445a-e861-fa134b4824aa"
      },
      "execution_count": 33,
      "outputs": [
        {
          "output_type": "stream",
          "name": "stdout",
          "text": [
            "On branch main\n",
            "Your branch is up to date with 'origin/main'.\n",
            "\n",
            "nothing to commit, working tree clean\n"
          ]
        }
      ]
    },
    {
      "cell_type": "code",
      "source": [
        "!pwd"
      ],
      "metadata": {
        "colab": {
          "base_uri": "https://localhost:8080/"
        },
        "id": "Fp_xizifeRlv",
        "outputId": "50466575-7bfa-4aed-8104-1b5c2095c043"
      },
      "execution_count": 36,
      "outputs": [
        {
          "output_type": "stream",
          "name": "stdout",
          "text": [
            "/content/hello-world\n"
          ]
        }
      ]
    },
    {
      "cell_type": "code",
      "source": [
        "!ls"
      ],
      "metadata": {
        "colab": {
          "base_uri": "https://localhost:8080/"
        },
        "id": "a1K1STc1fWgU",
        "outputId": "c3ccb5d0-7420-4425-bfaf-7f8811d04776"
      },
      "execution_count": 39,
      "outputs": [
        {
          "output_type": "stream",
          "name": "stdout",
          "text": [
            "README.md\n"
          ]
        }
      ]
    },
    {
      "cell_type": "code",
      "source": [
        "!git pull"
      ],
      "metadata": {
        "colab": {
          "base_uri": "https://localhost:8080/"
        },
        "id": "Qy33_Kiviqgg",
        "outputId": "f27954a8-ff67-4740-8326-194877693c3a"
      },
      "execution_count": 41,
      "outputs": [
        {
          "output_type": "stream",
          "name": "stdout",
          "text": [
            "Already up to date.\n"
          ]
        }
      ]
    },
    {
      "cell_type": "code",
      "source": [
        "!git fetch"
      ],
      "metadata": {
        "id": "_d08oLmPiuco"
      },
      "execution_count": 44,
      "outputs": []
    },
    {
      "cell_type": "code",
      "source": [
        "!ls"
      ],
      "metadata": {
        "colab": {
          "base_uri": "https://localhost:8080/"
        },
        "id": "MLIVymvEi264",
        "outputId": "348b3fa4-52f9-4bf8-f142-592c53cb54f2"
      },
      "execution_count": 47,
      "outputs": [
        {
          "output_type": "stream",
          "name": "stdout",
          "text": [
            "README.md\n"
          ]
        }
      ]
    },
    {
      "cell_type": "code",
      "source": [
        "!git status"
      ],
      "metadata": {
        "colab": {
          "base_uri": "https://localhost:8080/"
        },
        "id": "4V5rvGf5jYSU",
        "outputId": "0a093589-e616-4321-e079-3a01a4cf0c88"
      },
      "execution_count": 49,
      "outputs": [
        {
          "output_type": "stream",
          "name": "stdout",
          "text": [
            "On branch main\n",
            "Your branch is up to date with 'origin/main'.\n",
            "\n",
            "nothing to commit, working tree clean\n"
          ]
        }
      ]
    },
    {
      "cell_type": "code",
      "source": [
        "!git pull"
      ],
      "metadata": {
        "colab": {
          "base_uri": "https://localhost:8080/"
        },
        "id": "ru22ZhNVkCz9",
        "outputId": "d83f3b96-d906-4968-b2c6-69a4bcdc60a2"
      },
      "execution_count": 51,
      "outputs": [
        {
          "output_type": "stream",
          "name": "stdout",
          "text": [
            "Already up to date.\n"
          ]
        }
      ]
    },
    {
      "cell_type": "code",
      "source": [
        "!ls"
      ],
      "metadata": {
        "colab": {
          "base_uri": "https://localhost:8080/"
        },
        "id": "a-pMSKo3kGUc",
        "outputId": "d906ffed-0725-4022-ed5a-4b6354a110c6"
      },
      "execution_count": 53,
      "outputs": [
        {
          "output_type": "stream",
          "name": "stdout",
          "text": [
            "README.md\n"
          ]
        }
      ]
    },
    {
      "cell_type": "code",
      "source": [
        "!git remote -v"
      ],
      "metadata": {
        "colab": {
          "base_uri": "https://localhost:8080/"
        },
        "id": "lxXNqyNekJgk",
        "outputId": "284af75c-8ad5-4c95-e597-e96ab8067ebc"
      },
      "execution_count": 55,
      "outputs": [
        {
          "output_type": "stream",
          "name": "stdout",
          "text": [
            "origin\thttps://github.com/francival-lima/hello-world (fetch)\n",
            "origin\thttps://github.com/francival-lima/hello-world (push)\n"
          ]
        }
      ]
    },
    {
      "cell_type": "code",
      "source": [
        "!pwd"
      ],
      "metadata": {
        "colab": {
          "base_uri": "https://localhost:8080/"
        },
        "id": "8QZtbrtAlIn4",
        "outputId": "0684d8ce-e935-46a6-c8d0-3884d72032c7"
      },
      "execution_count": 56,
      "outputs": [
        {
          "output_type": "stream",
          "name": "stdout",
          "text": [
            "/content/hello-world\n"
          ]
        }
      ]
    },
    {
      "cell_type": "code",
      "source": [
        "!git pull origin"
      ],
      "metadata": {
        "colab": {
          "base_uri": "https://localhost:8080/"
        },
        "id": "z7lG5NHolLgg",
        "outputId": "6790c434-b202-441b-e6c7-e75a7d70d6f6"
      },
      "execution_count": 59,
      "outputs": [
        {
          "output_type": "stream",
          "name": "stdout",
          "text": [
            "Already up to date.\n"
          ]
        }
      ]
    },
    {
      "cell_type": "code",
      "source": [
        "!ls"
      ],
      "metadata": {
        "colab": {
          "base_uri": "https://localhost:8080/"
        },
        "id": "NPVlcE07mUV3",
        "outputId": "19ff08c2-77ad-4fa4-a4a0-8965c9ea8b8d"
      },
      "execution_count": 60,
      "outputs": [
        {
          "output_type": "stream",
          "name": "stdout",
          "text": [
            "README.md\n"
          ]
        }
      ]
    }
  ]
}